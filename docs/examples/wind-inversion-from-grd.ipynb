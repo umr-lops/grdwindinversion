{
 "cells": [
  {
   "cell_type": "markdown",
   "id": "e578297a-d2dc-4cb4-b016-1181649d227b",
   "metadata": {},
   "source": [
    "# Example of Wind inversion"
   ]
  },
  {
   "cell_type": "markdown",
   "id": "fa19ad8e-ebaa-430e-bd91-c21d517e7e88",
   "metadata": {},
   "source": [
    "## define a product GRD Sentinel-1"
   ]
  },
  {
   "cell_type": "code",
   "execution_count": 1,
   "id": "ef483f15-4690-460b-b688-fa966bab8cd8",
   "metadata": {},
   "outputs": [],
   "source": [
    "import xsar"
   ]
  },
  {
   "cell_type": "code",
   "execution_count": 2,
   "id": "e04fa1b0-eb49-4e45-af0f-0be798e26f95",
   "metadata": {},
   "outputs": [
    {
     "data": {
      "text/plain": [
       "'/tmp/S1A_IW_GRDH_1SDV_20170907T103020_20170907T103045_018268_01EB76_Z010.SAFE'"
      ]
     },
     "execution_count": 2,
     "metadata": {},
     "output_type": "execute_result"
    }
   ],
   "source": [
    "input_file = xsar.get_test_file('S1A_IW_GRDH_1SDV_20170907T103020_20170907T103045_018268_01EB76_Z010.SAFE')\n",
    "input_file"
   ]
  },
  {
   "cell_type": "markdown",
   "id": "f4886386-b19a-4c43-a790-192f4866a692",
   "metadata": {},
   "source": [
    "# perform wind inversion"
   ]
  },
  {
   "cell_type": "code",
   "execution_count": 3,
   "id": "d3fda3a2-2ee6-4401-be8f-c0fab8344a49",
   "metadata": {},
   "outputs": [],
   "source": [
    "from grdwindinversion.inversion import makeL2\n",
    "from grdwindinversion.degrade import * \n",
    "\n"
   ]
  },
  {
   "cell_type": "markdown",
   "id": "c8924754-34f5-4a27-a598-492022b3b3f5",
   "metadata": {},
   "source": [
    "# define config file"
   ]
  },
  {
   "cell_type": "code",
   "execution_count": 5,
   "id": "f95ee426-0b46-4d39-ae90-241e8bbaa332",
   "metadata": {},
   "outputs": [
    {
     "name": "stdout",
     "output_type": "stream",
     "text": [
      "True\n"
     ]
    }
   ],
   "source": [
    "import grdwindinversion\n",
    "import os\n",
    "config_file_s1 = os.path.join(os.path.dirname(grdwindinversion.__file__),'config_S1.yaml')\n",
    "grdwindinversion.__file__\n",
    "print(os.path.exists(config_file_s1))"
   ]
  },
  {
   "cell_type": "code",
   "execution_count": 11,
   "id": "3cbe649d-44d7-4a7f-9041-137092a61e07",
   "metadata": {},
   "outputs": [],
   "source": [
    "out_folder = '/tmp/test_windinversion'"
   ]
  },
  {
   "cell_type": "code",
   "execution_count": 9,
   "id": "27bc671b-d78c-4d70-b898-eac4093253e0",
   "metadata": {},
   "outputs": [
    {
     "data": {
      "text/plain": [
       "\u001b[0;31mSignature:\u001b[0m \u001b[0mmakeL2\u001b[0m\u001b[0;34m(\u001b[0m\u001b[0mfilename\u001b[0m\u001b[0;34m,\u001b[0m \u001b[0mout_folder\u001b[0m\u001b[0;34m,\u001b[0m \u001b[0mconfig_path\u001b[0m\u001b[0;34m)\u001b[0m\u001b[0;34m\u001b[0m\u001b[0;34m\u001b[0m\u001b[0m\n",
       "\u001b[0;31mDocstring:\u001b[0m <no docstring>\n",
       "\u001b[0;31mFile:\u001b[0m      ~/Documents/sources/grdwindinversion/grdwindinversion/inversion.py\n",
       "\u001b[0;31mType:\u001b[0m      function"
      ]
     },
     "metadata": {},
     "output_type": "display_data"
    }
   ],
   "source": [
    "makeL2?"
   ]
  },
  {
   "cell_type": "code",
   "execution_count": 12,
   "id": "b90c78bb-8643-4d64-a463-28fcb68d9b38",
   "metadata": {},
   "outputs": [
    {
     "name": "stderr",
     "output_type": "stream",
     "text": [
      "INFO:xsar.utils:BlockingActorProxy: Transparent proxy for from_dict\n"
     ]
    },
    {
     "name": "stdout",
     "output_type": "stream",
     "text": [
      "local variable 'map_model' referenced before assignment\n"
     ]
    }
   ],
   "source": [
    "out_file = makeL2(input_file,out_folder, config_path=config_file_s1)\n",
    "out_file"
   ]
  }
 ],
 "metadata": {
  "kernelspec": {
   "display_name": "micromamba1",
   "language": "python",
   "name": "micromamba1"
  },
  "language_info": {
   "codemirror_mode": {
    "name": "ipython",
    "version": 3
   },
   "file_extension": ".py",
   "mimetype": "text/x-python",
   "name": "python",
   "nbconvert_exporter": "python",
   "pygments_lexer": "ipython3",
   "version": "3.10.9"
  }
 },
 "nbformat": 4,
 "nbformat_minor": 5
}
