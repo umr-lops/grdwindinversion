{
 "cells": [
  {
   "cell_type": "markdown",
   "metadata": {},
   "source": [
    "# Compute and display streaks"
   ]
  },
  {
   "cell_type": "code",
   "execution_count": null,
   "metadata": {},
   "outputs": [],
   "source": [
    "# test on an dummy GRD IW product\n",
    "import xsar,os\n",
    "import grdwindinversion \n",
    "filename = xsar.get_test_file('S1A_IW_GRDH_1SDV_20170907T103020_20170907T103045_018268_01EB76_Z010.SAFE')\n",
    "outdir = \"/tmp/\"\n",
    "config_path = os.path.join(os.path.dirname(grdwindinversion.__file__),'config_prod_streaks.yaml')\n",
    "assert os.path.exists(config_path)\n",
    "overwrite = True\n",
    "resolution = '1000m'"
   ]
  },
  {
   "cell_type": "code",
   "execution_count": null,
   "metadata": {},
   "outputs": [],
   "source": [
    "import logging\n",
    "logger = logging.getLogger('grdwindinversion.gradientFeatures')\n",
    "logger.setLevel(logging.DEBUG)"
   ]
  },
  {
   "cell_type": "markdown",
   "metadata": {},
   "source": [
    "## preprocess & load config"
   ]
  },
  {
   "cell_type": "code",
   "execution_count": null,
   "metadata": {},
   "outputs": [],
   "source": [
    "from grdwindinversion.inversion import preprocess "
   ]
  },
  {
   "cell_type": "code",
   "execution_count": null,
   "metadata": {},
   "outputs": [],
   "source": [
    "xr_dataset, out_file, config = preprocess(\n",
    "    filename, outdir, config_path, overwrite, False, resolution)\n",
    "\n",
    "model_co = config[\"l2_params\"][\"model_co\"]\n",
    "model_cross = config[\"l2_params\"][\"model_cross\"]\n",
    "copol = config[\"l2_params\"][\"copol\"]\n",
    "crosspol = config[\"l2_params\"][\"crosspol\"]\n",
    "copol_gmf = config[\"l2_params\"][\"copol_gmf\"]\n",
    "crosspol_gmf = config[\"l2_params\"][\"crosspol_gmf\"]\n",
    "dual_pol = config[\"l2_params\"][\"dual_pol\"]\n",
    "ancillary_name = config[\"ancillary\"]\n",
    "sensor_longname = config[\"sensor_longname\"]\n"
   ]
  },
  {
   "cell_type": "markdown",
   "metadata": {},
   "source": [
    "## process gradients\n",
    "- in xr_dataset, it will add variables related to heterogeneity mask an\n",
    "- it will create xr_dataset_streaks"
   ]
  },
  {
   "cell_type": "code",
   "execution_count": null,
   "metadata": {},
   "outputs": [],
   "source": [
    "from grdwindinversion.inversion import process_gradients\n",
    "\n",
    "if config[\"add_gradientsfeatures\"]:\n",
    "    xr_dataset, xr_dataset_streaks = process_gradients(\n",
    "        xr_dataset, config)\n",
    "else:\n",
    "    xr_dataset_streaks = None"
   ]
  },
  {
   "cell_type": "code",
   "execution_count": null,
   "metadata": {},
   "outputs": [],
   "source": [
    "xr_dataset_streaks"
   ]
  },
  {
   "cell_type": "markdown",
   "metadata": {},
   "source": [
    "## Plotting the results"
   ]
  },
  {
   "cell_type": "code",
   "execution_count": null,
   "metadata": {},
   "outputs": [],
   "source": [
    "import numpy as np\n",
    "def get_uv_from_dir(wdir):\n",
    "    \"\"\"\n",
    "    Get u, v from wind direction\n",
    "    \n",
    "    Parameters\n",
    "    ----------\n",
    "    wdir : float\n",
    "        Wind direction in degrees, meteo convention\n",
    "    \n",
    "    Returns\n",
    "    -------\n",
    "    u : float\n",
    "        u component of the wind\n",
    "    v : float\n",
    "        v component of the wind\n",
    "    u_norm : float\n",
    "        Normalized u component of the wind\n",
    "    v_norm : float\n",
    "        Normalized v component of the wind  \n",
    "    \"\"\"\n",
    "    u = np.cos(np.radians(270-wdir))\n",
    "    v = np.sin(np.radians(270-wdir))\n",
    "    sq_mean = np.sqrt(u**2+v**2)\n",
    "    return u, v, u/sq_mean, v/sq_mean"
   ]
  },
  {
   "cell_type": "code",
   "execution_count": null,
   "metadata": {},
   "outputs": [],
   "source": [
    "import matplotlib.pyplot as plt\n",
    "import numpy as np\n",
    "import cartopy.crs as ccrs\n",
    "from cartopy.mpl.gridliner import LONGITUDE_FORMATTER, LATITUDE_FORMATTER\n",
    "import matplotlib\n",
    "cmin=0;cmax=30\n",
    "norm = matplotlib.colors.Normalize(vmin=cmin,vmax=cmax,clip=False)\n",
    "import os \n",
    "\n",
    "#ancillary \n",
    "ds = xr_dataset\n",
    "p1 = int(ds.line.size/16)\n",
    "p2 = int(ds.sample.size/16)\n",
    "\n",
    "lons = ds.longitude[::p1,::p2].values.flatten()\n",
    "lats = ds.latitude[::p1,::p2].values.flatten()\n",
    "winddir_ancillary = ds.ancillary_wind_direction[::p1,::p2]\n",
    "u_ancillary, v_ancllary, u_norm_ancillary, v_norm_ancillary = get_uv_from_dir(winddir_ancillary)\n",
    "\n",
    "longitude = xr_dataset_streaks['longitude'].values\n",
    "latitude = xr_dataset_streaks['latitude'].values"
   ]
  },
  {
   "cell_type": "code",
   "execution_count": null,
   "metadata": {},
   "outputs": [],
   "source": [
    "def plot_wind_from_streaks(streaks_dir, **kwargs):\n",
    "    \"\"\"\n",
    "    Plot wind from streaks\n",
    "    \n",
    "    Parameters\n",
    "    ----------\n",
    "    streaks_dir : xr.Dataset\n",
    "        Dataset containing streaks direction in degrees in meteo convention\n",
    "    \n",
    "    **kwargs : dict\n",
    "        window_size : int\n",
    "            Size of the window for smoothing the streaks\n",
    "        downscale_factor : int\n",
    "            Downscale factor for smoothing the streaks\n",
    "        pol : str\n",
    "            Polarization to plot\n",
    "        varname : str\n",
    "            Variable name to plot\n",
    "    \"\"\"\n",
    "    \n",
    "    \n",
    "    # handle kwargs\n",
    "    window_size = kwargs.get('window_size', None)\n",
    "    downscale_factor = kwargs.get('downscale_factor', None)\n",
    "    pol = kwargs.get('pol', None)\n",
    "    pol_display = kwargs.get('pol', 'VV')\n",
    "    varname = kwargs.get('varname', None)\n",
    "    savefig = kwargs.get('savefig', False)\n",
    "    savedir = kwargs.get('savedir', './tmp')\n",
    "    \n",
    "    # Plot\n",
    "    fig = plt.figure(figsize=(10, 9))\n",
    "    ax = plt.axes(projection=ccrs.PlateCarree())\n",
    "\n",
    "    # Calculer les composantes u et v à partir des angles streaks_dir\n",
    "    u, v, u_norm, v_norm = get_uv_from_dir(streaks_dir)\n",
    "\n",
    "    # Display streaks direction\n",
    "    #ax.quiver(longitude, latitude, u_norm, v_norm, edgecolors='k',  norm=norm, pivot= 'mid', scale_units='xy', scale=4., zorder=10, width=0.1/25,transform = ccrs.PlateCarree(), color = 'red', label = 'owiWindStreaks')\n",
    "    ax.quiver(longitude, latitude, u_norm, v_norm, edgecolors='k',  norm=norm, pivot= 'mid', scale_units='xy', scale=8., zorder=10, width=0.1/25,transform = ccrs.PlateCarree(), color = 'red', label = 'owiWindStreaks')\n",
    "\n",
    "    # Display ancillary wind direction\n",
    "    #ax.quiver(lons, lats, u_norm_ancillary, v_norm_ancillary, edgecolors='k',  norm=norm, pivot= 'mid', scale_units='xy', scale=4., zorder=10, width=0.1/25,transform = ccrs.PlateCarree(), color='blue', label = \"owiAncillaryWindDirection\")\n",
    "    ax.quiver(lons, lats, u_norm_ancillary, v_norm_ancillary, edgecolors='k',  norm=norm, pivot= 'mid', scale_units='xy', scale=8., zorder=10, width=0.1/25,transform = ccrs.PlateCarree(), color='blue', label = \"owiAncillaryWindDirection\")\n",
    "\n",
    "    # Display sigma0 copol\n",
    "    im = ax.pcolormesh(xr_dataset.longitude,xr_dataset.latitude, xr_dataset.sigma0.sel(pol=pol_display),cmap='gray')\n",
    "    cbar = plt.colorbar(im, ax =ax)\n",
    "    cbar.set_label(f'Sigma0, pol = {pol_display}')\n",
    "    \n",
    "    # Expand the map by 1 degree in height\n",
    "    lon_min, lon_max = np.nanmin(lons) - .2, np.nanmax(lons) + .2 \n",
    "    lat_min, lat_max = np.nanmin(lats) - .2, np.nanmax(lats) + .7\n",
    "    ax.set_extent([lon_min, lon_max, lat_min, lat_max], crs=ccrs.PlateCarree())\n",
    "\n",
    "\n",
    "    # Configurer les axes\n",
    "    ax.set_xlabel('Longitude')\n",
    "    ax.set_ylabel('Latitude')\n",
    "    ax.set_aspect('equal', adjustable='box')\n",
    "\n",
    "    gl = ax.gridlines(draw_labels=True)\n",
    "    gl.top_labels = False\n",
    "    gl.right_labels = False\n",
    "    gl.xformatter = LONGITUDE_FORMATTER\n",
    "    gl.yformatter = LATITUDE_FORMATTER\n",
    "    ax.set_title(f\"{os.path.basename(filename)}\\nvarname = {varname}\\nwindow size = {window_size} ; downscale_factor = {downscale_factor} ; pol= {pol}\")\n",
    "    legend = ax.legend(facecolor='white', loc = 'upper right')\n",
    "    legend.set_zorder(100)\n",
    "    if savefig:\n",
    "        os.makedirs(savedir, exist_ok=True)\n",
    "        plt.savefig(os.path.join(savedir, f\"wind_streaks_{varname}_{window_size}_{downscale_factor}_{pol}.png\"))"
   ]
  },
  {
   "cell_type": "code",
   "execution_count": null,
   "metadata": {},
   "outputs": [],
   "source": [
    "savefig = False\n",
    "\n",
    "varname = 'dir_mean_smooth'\n",
    "kwargs = {'varname' : varname, 'savefig': savefig, 'savedir': \"./tmp\"}\n",
    "plot_wind_from_streaks(xr_dataset_streaks[varname], **kwargs)\n",
    "\n",
    "varname = 'dir_smooth_mean'\n",
    "kwargs = {'varname' : varname, 'savefig': savefig, 'savedir': \"./tmp\"}\n",
    "plot_wind_from_streaks(xr_dataset_streaks[varname], **kwargs)\n",
    "\n",
    "\n",
    "# plot individual solutions \n",
    "varname = 'dir_smooth'\n",
    "for downscale_factor in xr_dataset_streaks.downscale_factor.values:\n",
    "   for pol in xr_dataset_streaks.pol.values:\n",
    "       for window_size in xr_dataset_streaks.window_size.values:\n",
    "           streaks_dir = xr_dataset_streaks[varname].sel(\n",
    "               downscale_factor=downscale_factor, pol=pol, window_size=window_size).values\n",
    "           kwargs = {'varname' : varname , 'window_size': window_size, 'downscale_factor': downscale_factor, 'pol': pol, 'savefig': savefig, 'savedir': \"./tmp\"}\n",
    "           plot_wind_from_streaks(streaks_dir, **kwargs)\n",
    "\n",
    "# plot one individual solution\n",
    "# downscale_factor = 1\n",
    "# pol = 'VV'\n",
    "# window_size = 3200\n",
    "\n",
    "# streaks_dir = xr_dataset_streaks[varname].sel(\n",
    "#     downscale_factor=downscale_factor, pol=pol, window_size=window_size).values\n",
    "# kwargs = {'varname' : varname , 'window_size': window_size, 'downscale_factor': downscale_factor, 'pol': pol, 'savefig': True, 'savedir': \"./tmp\"}\n",
    "# plot_wind_from_streaks(streaks_dir, **kwargs)\n",
    "\n"
   ]
  },
  {
   "cell_type": "code",
   "execution_count": null,
   "metadata": {},
   "outputs": [],
   "source": []
  }
 ],
 "metadata": {
  "kernelspec": {
   "display_name": "Python 3 (ipykernel)",
   "language": "python",
   "name": "python3"
  },
  "language_info": {
   "codemirror_mode": {
    "name": "ipython",
    "version": 3
   },
   "file_extension": ".py",
   "mimetype": "text/x-python",
   "name": "python",
   "nbconvert_exporter": "python",
   "pygments_lexer": "ipython3",
   "version": "3.11.0"
  }
 },
 "nbformat": 4,
 "nbformat_minor": 4
}
